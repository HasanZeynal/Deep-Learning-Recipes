{
  "nbformat": 4,
  "nbformat_minor": 0,
  "metadata": {
    "colab": {
      "provenance": [],
      "toc_visible": true,
      "mount_file_id": "1yQsiiY8UnHVCLaG7eBKeEWzcuJrVxXA1",
      "authorship_tag": "ABX9TyNskHyMHyyoo/b6KnV8eHup",
      "include_colab_link": true
    },
    "kernelspec": {
      "name": "python3",
      "display_name": "Python 3"
    },
    "language_info": {
      "name": "python"
    },
    "accelerator": "GPU",
    "gpuClass": "standard"
  },
  "cells": [
    {
      "cell_type": "markdown",
      "metadata": {
        "id": "view-in-github",
        "colab_type": "text"
      },
      "source": [
        "<a href=\"https://colab.research.google.com/github/hasanzeynal/Deep-Learning-Recipes/blob/main/Keras-Journey/01%20-%20modelling_on_tabular_data.ipynb\" target=\"_parent\"><img src=\"https://colab.research.google.com/assets/colab-badge.svg\" alt=\"Open In Colab\"/></a>"
      ]
    },
    {
      "cell_type": "markdown",
      "source": [
        "# Importing Libraries"
      ],
      "metadata": {
        "id": "PmyunHRaMfjy"
      }
    },
    {
      "cell_type": "code",
      "execution_count": null,
      "metadata": {
        "id": "XR2ftX2rXEML"
      },
      "outputs": [],
      "source": [
        "import pandas as pd\n",
        "import numpy as np\n",
        "import seaborn as sns\n",
        "import matplotlib.pyplot as plt\n",
        "\n",
        "import statsmodels.api as sm\n",
        "from scipy.stats import norm\n",
        "import pylab\n",
        "\n",
        "from sklearn.preprocessing import RobustScaler\n",
        "from sklearn.model_selection import train_test_split\n",
        "import keras\n",
        "from keras.models import Sequential\n",
        "from keras.metrics import Accuracy\n",
        "from keras.layers import Dense,Flatten\n",
        "from keras.optimizers import SGD\n",
        "from keras.losses import categorical_crossentropy\n",
        "from keras.callbacks import EarlyStopping"
      ]
    },
    {
      "cell_type": "markdown",
      "source": [
        "# Data Preperation"
      ],
      "metadata": {
        "id": "kNrPNp7xXNrr"
      }
    },
    {
      "cell_type": "code",
      "source": [
        "df = pd.read_csv('/content/drive/MyDrive/datasets/heart_disease_dataset.csv',sep=';')\n",
        "df.head()"
      ],
      "metadata": {
        "id": "f_ZoHnUyXuNz",
        "colab": {
          "base_uri": "https://localhost:8080/",
          "height": 270
        },
        "outputId": "652341a7-cd80-448d-f66b-a2e7532b165d"
      },
      "execution_count": null,
      "outputs": [
        {
          "output_type": "execute_result",
          "data": {
            "text/plain": [
              "   age  sex  chest_pain_type  resting_blood_pressure  cholesterol  \\\n",
              "0   63    1                3                     145          233   \n",
              "1   37    1                2                     130          250   \n",
              "2   41    0                1                     130          204   \n",
              "3   56    1                1                     120          236   \n",
              "4   57    0                0                     120          354   \n",
              "\n",
              "   fasting_blood_sugar  rest_ecg  max_heart_rate_achieved  \\\n",
              "0                    1         0                      150   \n",
              "1                    0         1                      187   \n",
              "2                    0         0                      172   \n",
              "3                    0         1                      178   \n",
              "4                    0         1                      163   \n",
              "\n",
              "   exercise_induced_angina  st_depression  st_slope  num_major_vessels  \\\n",
              "0                        0            2.3         0                  0   \n",
              "1                        0            3.5         0                  0   \n",
              "2                        0            1.4         2                  0   \n",
              "3                        0            0.8         2                  0   \n",
              "4                        1            0.6         2                  0   \n",
              "\n",
              "   thalassemia  target  \n",
              "0            1       1  \n",
              "1            2       1  \n",
              "2            2       1  \n",
              "3            2       1  \n",
              "4            2       1  "
            ],
            "text/html": [
              "\n",
              "  <div id=\"df-a959e43a-167b-499f-87d2-68b8a2cc9a1a\">\n",
              "    <div class=\"colab-df-container\">\n",
              "      <div>\n",
              "<style scoped>\n",
              "    .dataframe tbody tr th:only-of-type {\n",
              "        vertical-align: middle;\n",
              "    }\n",
              "\n",
              "    .dataframe tbody tr th {\n",
              "        vertical-align: top;\n",
              "    }\n",
              "\n",
              "    .dataframe thead th {\n",
              "        text-align: right;\n",
              "    }\n",
              "</style>\n",
              "<table border=\"1\" class=\"dataframe\">\n",
              "  <thead>\n",
              "    <tr style=\"text-align: right;\">\n",
              "      <th></th>\n",
              "      <th>age</th>\n",
              "      <th>sex</th>\n",
              "      <th>chest_pain_type</th>\n",
              "      <th>resting_blood_pressure</th>\n",
              "      <th>cholesterol</th>\n",
              "      <th>fasting_blood_sugar</th>\n",
              "      <th>rest_ecg</th>\n",
              "      <th>max_heart_rate_achieved</th>\n",
              "      <th>exercise_induced_angina</th>\n",
              "      <th>st_depression</th>\n",
              "      <th>st_slope</th>\n",
              "      <th>num_major_vessels</th>\n",
              "      <th>thalassemia</th>\n",
              "      <th>target</th>\n",
              "    </tr>\n",
              "  </thead>\n",
              "  <tbody>\n",
              "    <tr>\n",
              "      <th>0</th>\n",
              "      <td>63</td>\n",
              "      <td>1</td>\n",
              "      <td>3</td>\n",
              "      <td>145</td>\n",
              "      <td>233</td>\n",
              "      <td>1</td>\n",
              "      <td>0</td>\n",
              "      <td>150</td>\n",
              "      <td>0</td>\n",
              "      <td>2.3</td>\n",
              "      <td>0</td>\n",
              "      <td>0</td>\n",
              "      <td>1</td>\n",
              "      <td>1</td>\n",
              "    </tr>\n",
              "    <tr>\n",
              "      <th>1</th>\n",
              "      <td>37</td>\n",
              "      <td>1</td>\n",
              "      <td>2</td>\n",
              "      <td>130</td>\n",
              "      <td>250</td>\n",
              "      <td>0</td>\n",
              "      <td>1</td>\n",
              "      <td>187</td>\n",
              "      <td>0</td>\n",
              "      <td>3.5</td>\n",
              "      <td>0</td>\n",
              "      <td>0</td>\n",
              "      <td>2</td>\n",
              "      <td>1</td>\n",
              "    </tr>\n",
              "    <tr>\n",
              "      <th>2</th>\n",
              "      <td>41</td>\n",
              "      <td>0</td>\n",
              "      <td>1</td>\n",
              "      <td>130</td>\n",
              "      <td>204</td>\n",
              "      <td>0</td>\n",
              "      <td>0</td>\n",
              "      <td>172</td>\n",
              "      <td>0</td>\n",
              "      <td>1.4</td>\n",
              "      <td>2</td>\n",
              "      <td>0</td>\n",
              "      <td>2</td>\n",
              "      <td>1</td>\n",
              "    </tr>\n",
              "    <tr>\n",
              "      <th>3</th>\n",
              "      <td>56</td>\n",
              "      <td>1</td>\n",
              "      <td>1</td>\n",
              "      <td>120</td>\n",
              "      <td>236</td>\n",
              "      <td>0</td>\n",
              "      <td>1</td>\n",
              "      <td>178</td>\n",
              "      <td>0</td>\n",
              "      <td>0.8</td>\n",
              "      <td>2</td>\n",
              "      <td>0</td>\n",
              "      <td>2</td>\n",
              "      <td>1</td>\n",
              "    </tr>\n",
              "    <tr>\n",
              "      <th>4</th>\n",
              "      <td>57</td>\n",
              "      <td>0</td>\n",
              "      <td>0</td>\n",
              "      <td>120</td>\n",
              "      <td>354</td>\n",
              "      <td>0</td>\n",
              "      <td>1</td>\n",
              "      <td>163</td>\n",
              "      <td>1</td>\n",
              "      <td>0.6</td>\n",
              "      <td>2</td>\n",
              "      <td>0</td>\n",
              "      <td>2</td>\n",
              "      <td>1</td>\n",
              "    </tr>\n",
              "  </tbody>\n",
              "</table>\n",
              "</div>\n",
              "      <button class=\"colab-df-convert\" onclick=\"convertToInteractive('df-a959e43a-167b-499f-87d2-68b8a2cc9a1a')\"\n",
              "              title=\"Convert this dataframe to an interactive table.\"\n",
              "              style=\"display:none;\">\n",
              "        \n",
              "  <svg xmlns=\"http://www.w3.org/2000/svg\" height=\"24px\"viewBox=\"0 0 24 24\"\n",
              "       width=\"24px\">\n",
              "    <path d=\"M0 0h24v24H0V0z\" fill=\"none\"/>\n",
              "    <path d=\"M18.56 5.44l.94 2.06.94-2.06 2.06-.94-2.06-.94-.94-2.06-.94 2.06-2.06.94zm-11 1L8.5 8.5l.94-2.06 2.06-.94-2.06-.94L8.5 2.5l-.94 2.06-2.06.94zm10 10l.94 2.06.94-2.06 2.06-.94-2.06-.94-.94-2.06-.94 2.06-2.06.94z\"/><path d=\"M17.41 7.96l-1.37-1.37c-.4-.4-.92-.59-1.43-.59-.52 0-1.04.2-1.43.59L10.3 9.45l-7.72 7.72c-.78.78-.78 2.05 0 2.83L4 21.41c.39.39.9.59 1.41.59.51 0 1.02-.2 1.41-.59l7.78-7.78 2.81-2.81c.8-.78.8-2.07 0-2.86zM5.41 20L4 18.59l7.72-7.72 1.47 1.35L5.41 20z\"/>\n",
              "  </svg>\n",
              "      </button>\n",
              "      \n",
              "  <style>\n",
              "    .colab-df-container {\n",
              "      display:flex;\n",
              "      flex-wrap:wrap;\n",
              "      gap: 12px;\n",
              "    }\n",
              "\n",
              "    .colab-df-convert {\n",
              "      background-color: #E8F0FE;\n",
              "      border: none;\n",
              "      border-radius: 50%;\n",
              "      cursor: pointer;\n",
              "      display: none;\n",
              "      fill: #1967D2;\n",
              "      height: 32px;\n",
              "      padding: 0 0 0 0;\n",
              "      width: 32px;\n",
              "    }\n",
              "\n",
              "    .colab-df-convert:hover {\n",
              "      background-color: #E2EBFA;\n",
              "      box-shadow: 0px 1px 2px rgba(60, 64, 67, 0.3), 0px 1px 3px 1px rgba(60, 64, 67, 0.15);\n",
              "      fill: #174EA6;\n",
              "    }\n",
              "\n",
              "    [theme=dark] .colab-df-convert {\n",
              "      background-color: #3B4455;\n",
              "      fill: #D2E3FC;\n",
              "    }\n",
              "\n",
              "    [theme=dark] .colab-df-convert:hover {\n",
              "      background-color: #434B5C;\n",
              "      box-shadow: 0px 1px 3px 1px rgba(0, 0, 0, 0.15);\n",
              "      filter: drop-shadow(0px 1px 2px rgba(0, 0, 0, 0.3));\n",
              "      fill: #FFFFFF;\n",
              "    }\n",
              "  </style>\n",
              "\n",
              "      <script>\n",
              "        const buttonEl =\n",
              "          document.querySelector('#df-a959e43a-167b-499f-87d2-68b8a2cc9a1a button.colab-df-convert');\n",
              "        buttonEl.style.display =\n",
              "          google.colab.kernel.accessAllowed ? 'block' : 'none';\n",
              "\n",
              "        async function convertToInteractive(key) {\n",
              "          const element = document.querySelector('#df-a959e43a-167b-499f-87d2-68b8a2cc9a1a');\n",
              "          const dataTable =\n",
              "            await google.colab.kernel.invokeFunction('convertToInteractive',\n",
              "                                                     [key], {});\n",
              "          if (!dataTable) return;\n",
              "\n",
              "          const docLinkHtml = 'Like what you see? Visit the ' +\n",
              "            '<a target=\"_blank\" href=https://colab.research.google.com/notebooks/data_table.ipynb>data table notebook</a>'\n",
              "            + ' to learn more about interactive tables.';\n",
              "          element.innerHTML = '';\n",
              "          dataTable['output_type'] = 'display_data';\n",
              "          await google.colab.output.renderOutput(dataTable, element);\n",
              "          const docLink = document.createElement('div');\n",
              "          docLink.innerHTML = docLinkHtml;\n",
              "          element.appendChild(docLink);\n",
              "        }\n",
              "      </script>\n",
              "    </div>\n",
              "  </div>\n",
              "  "
            ]
          },
          "metadata": {},
          "execution_count": 3
        }
      ]
    },
    {
      "cell_type": "code",
      "source": [
        "print(f'The number of features that has null values:{df.isnull().any().sum()}')"
      ],
      "metadata": {
        "colab": {
          "base_uri": "https://localhost:8080/"
        },
        "id": "lJb0FeAra0fw",
        "outputId": "c10d8bea-1f93-4154-aa19-f1913c816e94"
      },
      "execution_count": null,
      "outputs": [
        {
          "output_type": "stream",
          "name": "stdout",
          "text": [
            "The number of features that has null values:0\n"
          ]
        }
      ]
    },
    {
      "cell_type": "code",
      "source": [
        "for col in df.columns:\n",
        "  if len(dict(df[col].value_counts()).keys()) <= 5:\n",
        "    print(f'{col}:{df[col].nunique()}')"
      ],
      "metadata": {
        "colab": {
          "base_uri": "https://localhost:8080/"
        },
        "id": "y1Btc4gMb4W6",
        "outputId": "13b37e06-e267-4779-9ace-fd29f5b9c001"
      },
      "execution_count": null,
      "outputs": [
        {
          "output_type": "stream",
          "name": "stdout",
          "text": [
            "sex:2\n",
            "chest_pain_type:4\n",
            "fasting_blood_sugar:2\n",
            "rest_ecg:3\n",
            "exercise_induced_angina:2\n",
            "st_slope:3\n",
            "num_major_vessels:5\n",
            "thalassemia:4\n",
            "target:2\n"
          ]
        }
      ]
    },
    {
      "cell_type": "markdown",
      "source": [
        "*Visualization with pie chart to show how distribute our data in categorical features* \n",
        "\n",
        "---\n",
        "let's get started\n"
      ],
      "metadata": {
        "id": "Bl__lGxTg88k"
      }
    },
    {
      "cell_type": "code",
      "source": [
        "cat_features_1 = ['sex','chest_pain_type','fasting_blood_sugar','rest_ecg']\n",
        "cat_features_2 = ['exercise_induced_angina','st_slope','num_major_vessels','thalassemia']\n",
        "\n",
        "fig,ax = plt.subplots(2,4,figsize=(16,9))\n",
        "\n",
        "for j in range(0, 2):\n",
        "  if j == 0:\n",
        "    for i,c in enumerate(cat_features_1):\n",
        "      df[c].value_counts().plot(kind='pie', ax=ax[j][i])\n",
        "  else:\n",
        "    for i,c in enumerate(cat_features_2):\n",
        "      df[c].value_counts().plot(kind='pie', ax=ax[j][i])"
      ],
      "metadata": {
        "colab": {
          "base_uri": "https://localhost:8080/",
          "height": 492
        },
        "id": "NgP5nQW9m2Ob",
        "outputId": "1b8b9060-9641-43d8-b321-7d445a21da63"
      },
      "execution_count": null,
      "outputs": [
        {
          "output_type": "display_data",
          "data": {
            "text/plain": [
              "<Figure size 1152x648 with 8 Axes>"
            ],
            "image/png": "[encoded data removed]"
          },
          "metadata": {}
        }
      ]
    },
    {
      "cell_type": "code",
      "source": [
        "df.shape"
      ],
      "metadata": {
        "colab": {
          "base_uri": "https://localhost:8080/"
        },
        "id": "AnrB2wwqdSUO",
        "outputId": "38b16585-0671-4b58-843d-820342eeb4e1"
      },
      "execution_count": null,
      "outputs": [
        {
          "output_type": "execute_result",
          "data": {
            "text/plain": [
              "(303, 14)"
            ]
          },
          "metadata": {},
          "execution_count": 7
        }
      ]
    },
    {
      "cell_type": "markdown",
      "source": [
        "\n",
        "**As we can see,there is no any problem than can be caused inbalance**\n",
        "\n"
      ],
      "metadata": {
        "id": "lLH5UqVYk85u"
      }
    },
    {
      "cell_type": "markdown",
      "source": [
        "# Detecting and Handling outliers"
      ],
      "metadata": {
        "id": "-OOkQAguw1YV"
      }
    },
    {
      "cell_type": "code",
      "source": [
        "df.describe().T"
      ],
      "metadata": {
        "colab": {
          "base_uri": "https://localhost:8080/",
          "height": 488
        },
        "id": "ZDBVmecelQ-4",
        "outputId": "59aad17f-0f99-4d78-c5f9-d028cb8a245d"
      },
      "execution_count": null,
      "outputs": [
        {
          "output_type": "execute_result",
          "data": {
            "text/plain": [
              "                         count        mean        std    min    25%    50%  \\\n",
              "age                      303.0   54.366337   9.082101   29.0   47.5   55.0   \n",
              "sex                      303.0    0.683168   0.466011    0.0    0.0    1.0   \n",
              "chest_pain_type          303.0    0.966997   1.032052    0.0    0.0    1.0   \n",
              "resting_blood_pressure   303.0  131.623762  17.538143   94.0  120.0  130.0   \n",
              "cholesterol              303.0  246.264026  51.830751  126.0  211.0  240.0   \n",
              "fasting_blood_sugar      303.0    0.148515   0.356198    0.0    0.0    0.0   \n",
              "rest_ecg                 303.0    0.528053   0.525860    0.0    0.0    1.0   \n",
              "max_heart_rate_achieved  303.0  149.646865  22.905161   71.0  133.5  153.0   \n",
              "exercise_induced_angina  303.0    0.326733   0.469794    0.0    0.0    0.0   \n",
              "st_depression            303.0    1.039604   1.161075    0.0    0.0    0.8   \n",
              "st_slope                 303.0    1.399340   0.616226    0.0    1.0    1.0   \n",
              "num_major_vessels        303.0    0.729373   1.022606    0.0    0.0    0.0   \n",
              "thalassemia              303.0    2.313531   0.612277    0.0    2.0    2.0   \n",
              "target                   303.0    0.544554   0.498835    0.0    0.0    1.0   \n",
              "\n",
              "                           75%    max  \n",
              "age                       61.0   77.0  \n",
              "sex                        1.0    1.0  \n",
              "chest_pain_type            2.0    3.0  \n",
              "resting_blood_pressure   140.0  200.0  \n",
              "cholesterol              274.5  564.0  \n",
              "fasting_blood_sugar        0.0    1.0  \n",
              "rest_ecg                   1.0    2.0  \n",
              "max_heart_rate_achieved  166.0  202.0  \n",
              "exercise_induced_angina    1.0    1.0  \n",
              "st_depression              1.6    6.2  \n",
              "st_slope                   2.0    2.0  \n",
              "num_major_vessels          1.0    4.0  \n",
              "thalassemia                3.0    3.0  \n",
              "target                     1.0    1.0  "
            ],
            "text/html": [
              "\n",
              "  <div id=\"df-22819376-3df8-4e86-9332-d71ecd6d830d\">\n",
              "    <div class=\"colab-df-container\">\n",
              "      <div>\n",
              "<style scoped>\n",
              "    .dataframe tbody tr th:only-of-type {\n",
              "        vertical-align: middle;\n",
              "    }\n",
              "\n",
              "    .dataframe tbody tr th {\n",
              "        vertical-align: top;\n",
              "    }\n",
              "\n",
              "    .dataframe thead th {\n",
              "        text-align: right;\n",
              "    }\n",
              "</style>\n",
              "<table border=\"1\" class=\"dataframe\">\n",
              "  <thead>\n",
              "    <tr style=\"text-align: right;\">\n",
              "      <th></th>\n",
              "      <th>count</th>\n",
              "      <th>mean</th>\n",
              "      <th>std</th>\n",
              "      <th>min</th>\n",
              "      <th>25%</th>\n",
              "      <th>50%</th>\n",
              "      <th>75%</th>\n",
              "      <th>max</th>\n",
              "    </tr>\n",
              "  </thead>\n",
              "  <tbody>\n",
              "    <tr>\n",
              "      <th>age</th>\n",
              "      <td>303.0</td>\n",
              "      <td>54.366337</td>\n",
              "      <td>9.082101</td>\n",
              "      <td>29.0</td>\n",
              "      <td>47.5</td>\n",
              "      <td>55.0</td>\n",
              "      <td>61.0</td>\n",
              "      <td>77.0</td>\n",
              "    </tr>\n",
              "    <tr>\n",
              "      <th>sex</th>\n",
              "      <td>303.0</td>\n",
              "      <td>0.683168</td>\n",
              "      <td>0.466011</td>\n",
              "      <td>0.0</td>\n",
              "      <td>0.0</td>\n",
              "      <td>1.0</td>\n",
              "      <td>1.0</td>\n",
              "      <td>1.0</td>\n",
              "    </tr>\n",
              "    <tr>\n",
              "      <th>chest_pain_type</th>\n",
              "      <td>303.0</td>\n",
              "      <td>0.966997</td>\n",
              "      <td>1.032052</td>\n",
              "      <td>0.0</td>\n",
              "      <td>0.0</td>\n",
              "      <td>1.0</td>\n",
              "      <td>2.0</td>\n",
              "      <td>3.0</td>\n",
              "    </tr>\n",
              "    <tr>\n",
              "      <th>resting_blood_pressure</th>\n",
              "      <td>303.0</td>\n",
              "      <td>131.623762</td>\n",
              "      <td>17.538143</td>\n",
              "      <td>94.0</td>\n",
              "      <td>120.0</td>\n",
              "      <td>130.0</td>\n",
              "      <td>140.0</td>\n",
              "      <td>200.0</td>\n",
              "    </tr>\n",
              "    <tr>\n",
              "      <th>cholesterol</th>\n",
              "      <td>303.0</td>\n",
              "      <td>246.264026</td>\n",
              "      <td>51.830751</td>\n",
              "      <td>126.0</td>\n",
              "      <td>211.0</td>\n",
              "      <td>240.0</td>\n",
              "      <td>274.5</td>\n",
              "      <td>564.0</td>\n",
              "    </tr>\n",
              "    <tr>\n",
              "      <th>fasting_blood_sugar</th>\n",
              "      <td>303.0</td>\n",
              "      <td>0.148515</td>\n",
              "      <td>0.356198</td>\n",
              "      <td>0.0</td>\n",
              "      <td>0.0</td>\n",
              "      <td>0.0</td>\n",
              "      <td>0.0</td>\n",
              "      <td>1.0</td>\n",
              "    </tr>\n",
              "    <tr>\n",
              "      <th>rest_ecg</th>\n",
              "      <td>303.0</td>\n",
              "      <td>0.528053</td>\n",
              "      <td>0.525860</td>\n",
              "      <td>0.0</td>\n",
              "      <td>0.0</td>\n",
              "      <td>1.0</td>\n",
              "      <td>1.0</td>\n",
              "      <td>2.0</td>\n",
              "    </tr>\n",
              "    <tr>\n",
              "      <th>max_heart_rate_achieved</th>\n",
              "      <td>303.0</td>\n",
              "      <td>149.646865</td>\n",
              "      <td>22.905161</td>\n",
              "      <td>71.0</td>\n",
              "      <td>133.5</td>\n",
              "      <td>153.0</td>\n",
              "      <td>166.0</td>\n",
              "      <td>202.0</td>\n",
              "    </tr>\n",
              "    <tr>\n",
              "      <th>exercise_induced_angina</th>\n",
              "      <td>303.0</td>\n",
              "      <td>0.326733</td>\n",
              "      <td>0.469794</td>\n",
              "      <td>0.0</td>\n",
              "      <td>0.0</td>\n",
              "      <td>0.0</td>\n",
              "      <td>1.0</td>\n",
              "      <td>1.0</td>\n",
              "    </tr>\n",
              "    <tr>\n",
              "      <th>st_depression</th>\n",
              "      <td>303.0</td>\n",
              "      <td>1.039604</td>\n",
              "      <td>1.161075</td>\n",
              "      <td>0.0</td>\n",
              "      <td>0.0</td>\n",
              "      <td>0.8</td>\n",
              "      <td>1.6</td>\n",
              "      <td>6.2</td>\n",
              "    </tr>\n",
              "    <tr>\n",
              "      <th>st_slope</th>\n",
              "      <td>303.0</td>\n",
              "      <td>1.399340</td>\n",
              "      <td>0.616226</td>\n",
              "      <td>0.0</td>\n",
              "      <td>1.0</td>\n",
              "      <td>1.0</td>\n",
              "      <td>2.0</td>\n",
              "      <td>2.0</td>\n",
              "    </tr>\n",
              "    <tr>\n",
              "      <th>num_major_vessels</th>\n",
              "      <td>303.0</td>\n",
              "      <td>0.729373</td>\n",
              "      <td>1.022606</td>\n",
              "      <td>0.0</td>\n",
              "      <td>0.0</td>\n",
              "      <td>0.0</td>\n",
              "      <td>1.0</td>\n",
              "      <td>4.0</td>\n",
              "    </tr>\n",
              "    <tr>\n",
              "      <th>thalassemia</th>\n",
              "      <td>303.0</td>\n",
              "      <td>2.313531</td>\n",
              "      <td>0.612277</td>\n",
              "      <td>0.0</td>\n",
              "      <td>2.0</td>\n",
              "      <td>2.0</td>\n",
              "      <td>3.0</td>\n",
              "      <td>3.0</td>\n",
              "    </tr>\n",
              "    <tr>\n",
              "      <th>target</th>\n",
              "      <td>303.0</td>\n",
              "      <td>0.544554</td>\n",
              "      <td>0.498835</td>\n",
              "      <td>0.0</td>\n",
              "      <td>0.0</td>\n",
              "      <td>1.0</td>\n",
              "      <td>1.0</td>\n",
              "      <td>1.0</td>\n",
              "    </tr>\n",
              "  </tbody>\n",
              "</table>\n",
              "</div>\n",
              "      <button class=\"colab-df-convert\" onclick=\"convertToInteractive('df-22819376-3df8-4e86-9332-d71ecd6d830d')\"\n",
              "              title=\"Convert this dataframe to an interactive table.\"\n",
              "              style=\"display:none;\">\n",
              "        \n",
              "  <svg xmlns=\"http://www.w3.org/2000/svg\" height=\"24px\"viewBox=\"0 0 24 24\"\n",
              "       width=\"24px\">\n",
              "    <path d=\"M0 0h24v24H0V0z\" fill=\"none\"/>\n",
              "    <path d=\"M18.56 5.44l.94 2.06.94-2.06 2.06-.94-2.06-.94-.94-2.06-.94 2.06-2.06.94zm-11 1L8.5 8.5l.94-2.06 2.06-.94-2.06-.94L8.5 2.5l-.94 2.06-2.06.94zm10 10l.94 2.06.94-2.06 2.06-.94-2.06-.94-.94-2.06-.94 2.06-2.06.94z\"/><path d=\"M17.41 7.96l-1.37-1.37c-.4-.4-.92-.59-1.43-.59-.52 0-1.04.2-1.43.59L10.3 9.45l-7.72 7.72c-.78.78-.78 2.05 0 2.83L4 21.41c.39.39.9.59 1.41.59.51 0 1.02-.2 1.41-.59l7.78-7.78 2.81-2.81c.8-.78.8-2.07 0-2.86zM5.41 20L4 18.59l7.72-7.72 1.47 1.35L5.41 20z\"/>\n",
              "  </svg>\n",
              "      </button>\n",
              "      \n",
              "  <style>\n",
              "    .colab-df-container {\n",
              "      display:flex;\n",
              "      flex-wrap:wrap;\n",
              "      gap: 12px;\n",
              "    }\n",
              "\n",
              "    .colab-df-convert {\n",
              "      background-color: #E8F0FE;\n",
              "      border: none;\n",
              "      border-radius: 50%;\n",
              "      cursor: pointer;\n",
              "      display: none;\n",
              "      fill: #1967D2;\n",
              "      height: 32px;\n",
              "      padding: 0 0 0 0;\n",
              "      width: 32px;\n",
              "    }\n",
              "\n",
              "    .colab-df-convert:hover {\n",
              "      background-color: #E2EBFA;\n",
              "      box-shadow: 0px 1px 2px rgba(60, 64, 67, 0.3), 0px 1px 3px 1px rgba(60, 64, 67, 0.15);\n",
              "      fill: #174EA6;\n",
              "    }\n",
              "\n",
              "    [theme=dark] .colab-df-convert {\n",
              "      background-color: #3B4455;\n",
              "      fill: #D2E3FC;\n",
              "    }\n",
              "\n",
              "    [theme=dark] .colab-df-convert:hover {\n",
              "      background-color: #434B5C;\n",
              "      box-shadow: 0px 1px 3px 1px rgba(0, 0, 0, 0.15);\n",
              "      filter: drop-shadow(0px 1px 2px rgba(0, 0, 0, 0.3));\n",
              "      fill: #FFFFFF;\n",
              "    }\n",
              "  </style>\n",
              "\n",
              "      <script>\n",
              "        const buttonEl =\n",
              "          document.querySelector('#df-22819376-3df8-4e86-9332-d71ecd6d830d button.colab-df-convert');\n",
              "        buttonEl.style.display =\n",
              "          google.colab.kernel.accessAllowed ? 'block' : 'none';\n",
              "\n",
              "        async function convertToInteractive(key) {\n",
              "          const element = document.querySelector('#df-22819376-3df8-4e86-9332-d71ecd6d830d');\n",
              "          const dataTable =\n",
              "            await google.colab.kernel.invokeFunction('convertToInteractive',\n",
              "                                                     [key], {});\n",
              "          if (!dataTable) return;\n",
              "\n",
              "          const docLinkHtml = 'Like what you see? Visit the ' +\n",
              "            '<a target=\"_blank\" href=https://colab.research.google.com/notebooks/data_table.ipynb>data table notebook</a>'\n",
              "            + ' to learn more about interactive tables.';\n",
              "          element.innerHTML = '';\n",
              "          dataTable['output_type'] = 'display_data';\n",
              "          await google.colab.output.renderOutput(dataTable, element);\n",
              "          const docLink = document.createElement('div');\n",
              "          docLink.innerHTML = docLinkHtml;\n",
              "          element.appendChild(docLink);\n",
              "        }\n",
              "      </script>\n",
              "    </div>\n",
              "  </div>\n",
              "  "
            ]
          },
          "metadata": {},
          "execution_count": 8
        }
      ]
    },
    {
      "cell_type": "markdown",
      "source": [
        "Actually,we need to see outliers in the boxplot,so i have showed the description of datas,It seems that,Median would be best choise to show boxplots"
      ],
      "metadata": {
        "id": "KxgvHqo6wjLR"
      }
    },
    {
      "cell_type": "code",
      "source": [
        "cat_features_1 + cat_features_2"
      ],
      "metadata": {
        "colab": {
          "base_uri": "https://localhost:8080/"
        },
        "id": "d_s0iNr6xJ_F",
        "outputId": "3865dd77-3f85-4b2d-a702-ccc2f15c8a8d"
      },
      "execution_count": null,
      "outputs": [
        {
          "output_type": "execute_result",
          "data": {
            "text/plain": [
              "['sex',\n",
              " 'chest_pain_type',\n",
              " 'fasting_blood_sugar',\n",
              " 'rest_ecg',\n",
              " 'exercise_induced_angina',\n",
              " 'st_slope',\n",
              " 'num_major_vessels',\n",
              " 'thalassemia']"
            ]
          },
          "metadata": {},
          "execution_count": 9
        }
      ]
    },
    {
      "cell_type": "code",
      "source": [
        "numeric_features = ['age','cholesterol','max_heart_rate_achieved','resting_blood_pressure',\n",
        "                    'st_depression','thalassemia']"
      ],
      "metadata": {
        "id": "EF0dhR2ulbaW"
      },
      "execution_count": null,
      "outputs": []
    },
    {
      "cell_type": "code",
      "source": [
        "fig,axes = plt.subplots(1,6,figsize=(16,9))\n",
        "#sns.set_style('whitegrid')\n",
        "for i,f in enumerate(numeric_features):\n",
        "    axes[i].boxplot(df[f])\n",
        "    axes[i].set_title(f).set_fontsize(13)\n",
        "    #_ = axes[f].set_ylabel('')\n",
        "#_ = plt.tight_layout()\n",
        "# ask someone,how to get title name "
      ],
      "metadata": {
        "colab": {
          "base_uri": "https://localhost:8080/",
          "height": 553
        },
        "id": "Gtxrq3NcmHen",
        "outputId": "ddc48016-b159-473b-e824-c87f77b8eb94"
      },
      "execution_count": null,
      "outputs": [
        {
          "output_type": "display_data",
          "data": {
            "text/plain": [
              "<Figure size 1152x648 with 6 Axes>"
            ],
            "image/png": "[encoded data removed]"
          },
          "metadata": {
            "needs_background": "light"
          }
        }
      ]
    },
    {
      "cell_type": "code",
      "source": [
        "#detecting outliers\n",
        "df_copy = df.copy()\n",
        "for col in numeric_features:\n",
        "  print(f\"Upper allowed for the {col}:{df[col].mean() + 3*df[col].std()}\")\n",
        "  print(f\"Lower allowed for the {col}:{df[col].mean() - 3*df[col].std()}\")"
      ],
      "metadata": {
        "colab": {
          "base_uri": "https://localhost:8080/"
        },
        "id": "gh3wWndmybJM",
        "outputId": "e69a5c84-0006-45d2-c8af-e64bcf8461c7"
      },
      "execution_count": null,
      "outputs": [
        {
          "output_type": "stream",
          "name": "stdout",
          "text": [
            "Upper allowed for the age:81.61263960317694\n",
            "Lower allowed for the age:27.120033664149794\n",
            "Upper allowed for the cholesterol:401.75627936643036\n",
            "Lower allowed for the cholesterol:90.77177343885018\n",
            "Upper allowed for the max_heart_rate_achieved:218.36234803121096\n",
            "Lower allowed for the max_heart_rate_achieved:80.93138134172638\n",
            "Upper allowed for the resting_blood_pressure:184.23819081678894\n",
            "Lower allowed for the resting_blood_pressure:79.00933393568633\n",
            "Upper allowed for the st_depression:4.5228290266019435\n",
            "Lower allowed for the st_depression:-2.4436211058098647\n",
            "Upper allowed for the thalassemia:4.150360874969737\n",
            "Lower allowed for the thalassemia:0.47670183130089105\n"
          ]
        }
      ]
    },
    {
      "cell_type": "code",
      "source": [
        "for col in numeric_features:\n",
        "  print(f\"{col}:{round(df[col].skew(),2)}\")"
      ],
      "metadata": {
        "colab": {
          "base_uri": "https://localhost:8080/"
        },
        "id": "_qn7u_s16zGJ",
        "outputId": "2fd7a21c-edf7-42c2-f72e-407de7151f94"
      },
      "execution_count": null,
      "outputs": [
        {
          "output_type": "stream",
          "name": "stdout",
          "text": [
            "age:-0.2\n",
            "cholesterol:1.14\n",
            "max_heart_rate_achieved:-0.54\n",
            "resting_blood_pressure:0.71\n",
            "st_depression:1.27\n",
            "thalassemia:-0.48\n"
          ]
        }
      ]
    },
    {
      "cell_type": "code",
      "source": [
        "for col in numeric_features:\n",
        "  Q3 = np.percentile(df[col], 75, interpolation = 'midpoint')\n",
        "  Q1 = np.percentile(df[col], 25, interpolation = 'midpoint')\n",
        "  df[col] = np.where(df[col] < Q1, Q1,df[col])\n",
        "  df[col] = np.where(df[col] > Q3,Q3,df[col])\n",
        "  print(f'{col}:{df[col].skew()}')"
      ],
      "metadata": {
        "colab": {
          "base_uri": "https://localhost:8080/"
        },
        "id": "btenJC4663IY",
        "outputId": "81ad2de9-6980-4be8-bea5-283038bee548"
      },
      "execution_count": null,
      "outputs": [
        {
          "output_type": "stream",
          "name": "stdout",
          "text": [
            "age:-0.12304843034217994\n",
            "cholesterol:0.04060469119663337\n",
            "max_heart_rate_achieved:-0.18347656908522\n",
            "resting_blood_pressure:-0.007672609263591587\n",
            "st_depression:0.0748778614705752\n",
            "thalassemia:0.47006506722070385\n"
          ]
        }
      ]
    },
    {
      "cell_type": "code",
      "source": [
        "df.shape"
      ],
      "metadata": {
        "colab": {
          "base_uri": "https://localhost:8080/"
        },
        "id": "wKpwNpJHO6S-",
        "outputId": "c7a2308c-3285-4418-b646-9ac9cb74ab31"
      },
      "execution_count": null,
      "outputs": [
        {
          "output_type": "execute_result",
          "data": {
            "text/plain": [
              "(303, 14)"
            ]
          },
          "metadata": {},
          "execution_count": 18
        }
      ]
    },
    {
      "cell_type": "code",
      "source": [
        "#the shape is same because we didnot delete the outliers,j\n",
        "#ust change them to the max and min values and high skewnes changed to the low one.tjat is a good thing"
      ],
      "metadata": {
        "id": "pNIG7z1NO8y1"
      },
      "execution_count": null,
      "outputs": []
    },
    {
      "cell_type": "markdown",
      "source": [
        "# Visalizations to get inside about datas"
      ],
      "metadata": {
        "id": "ivZNfQM-Dm4S"
      }
    },
    {
      "cell_type": "markdown",
      "source": [
        "## Checing for normalization\n",
        "\n"
      ],
      "metadata": {
        "id": "XyaigMl4S0-r"
      }
    },
    {
      "cell_type": "code",
      "source": [
        "fig,ax = plt.subplots(2,3,figsize=(16,9))\n",
        "for j in range(0, 2):\n",
        "  if j == 0:\n",
        "    for i,c in enumerate(['age','cholesterol','max_heart_rate_achieved']):\n",
        "      sm.qqplot(df[c],ax=ax[j][i],line = 's')\n",
        "  else:\n",
        "    for i,c in enumerate(['resting_blood_pressure','st_depression','thalassemia']):\n",
        "      sm.qqplot(df[c],ax=ax[j][i],line = 'q')\n",
        "      pylab.show()"
      ],
      "metadata": {
        "colab": {
          "base_uri": "https://localhost:8080/",
          "height": 552
        },
        "id": "22RTvuQRPNv4",
        "outputId": "e1552e43-6090-41d1-c37d-a3a88ce131c2"
      },
      "execution_count": null,
      "outputs": [
        {
          "output_type": "display_data",
          "data": {
            "text/plain": [
              "<Figure size 1152x648 with 6 Axes>"
            ],
            "image/png": "[encoded data removed]"
          },
          "metadata": {
            "needs_background": "light"
          }
        }
      ]
    },
    {
      "cell_type": "code",
      "source": [
        "df.head()"
      ],
      "metadata": {
        "id": "nuwTYfD6_MYP",
        "colab": {
          "base_uri": "https://localhost:8080/",
          "height": 270
        },
        "outputId": "03ef14a6-938d-4d63-894a-7750e4074e61"
      },
      "execution_count": null,
      "outputs": [
        {
          "output_type": "execute_result",
          "data": {
            "text/plain": [
              "       age  sex  chest_pain_type  resting_blood_pressure  cholesterol  \\\n",
              "0  61.0000  1.0              2.0                   140.0     233.0000   \n",
              "1  47.9375  1.0              2.0                   130.0     250.0000   \n",
              "2  47.9375  0.0              1.0                   130.0     211.0000   \n",
              "3  56.0000  1.0              1.0                   120.0     236.0000   \n",
              "4  57.0000  0.0              0.0                   120.0     274.0625   \n",
              "\n",
              "   fasting_blood_sugar  rest_ecg  max_heart_rate_achieved  \\\n",
              "0                  0.0       0.0                    150.0   \n",
              "1                  0.0       1.0                    166.0   \n",
              "2                  0.0       0.0                    166.0   \n",
              "3                  0.0       1.0                    166.0   \n",
              "4                  0.0       1.0                    163.0   \n",
              "\n",
              "   exercise_induced_angina  st_depression  st_slope  num_major_vessels  \\\n",
              "0                      0.0            1.6       1.0                0.0   \n",
              "1                      0.0            1.6       1.0                0.0   \n",
              "2                      0.0            1.4       2.0                0.0   \n",
              "3                      0.0            0.8       2.0                0.0   \n",
              "4                      1.0            0.6       2.0                0.0   \n",
              "\n",
              "   thalassemia  target  \n",
              "0          2.0     1.0  \n",
              "1          2.0     1.0  \n",
              "2          2.0     1.0  \n",
              "3          2.0     1.0  \n",
              "4          2.0     1.0  "
            ],
            "text/html": [
              "\n",
              "  <div id=\"df-ef8ae97f-e1a0-4562-82df-89e037e1147b\">\n",
              "    <div class=\"colab-df-container\">\n",
              "      <div>\n",
              "<style scoped>\n",
              "    .dataframe tbody tr th:only-of-type {\n",
              "        vertical-align: middle;\n",
              "    }\n",
              "\n",
              "    .dataframe tbody tr th {\n",
              "        vertical-align: top;\n",
              "    }\n",
              "\n",
              "    .dataframe thead th {\n",
              "        text-align: right;\n",
              "    }\n",
              "</style>\n",
              "<table border=\"1\" class=\"dataframe\">\n",
              "  <thead>\n",
              "    <tr style=\"text-align: right;\">\n",
              "      <th></th>\n",
              "      <th>age</th>\n",
              "      <th>sex</th>\n",
              "      <th>chest_pain_type</th>\n",
              "      <th>resting_blood_pressure</th>\n",
              "      <th>cholesterol</th>\n",
              "      <th>fasting_blood_sugar</th>\n",
              "      <th>rest_ecg</th>\n",
              "      <th>max_heart_rate_achieved</th>\n",
              "      <th>exercise_induced_angina</th>\n",
              "      <th>st_depression</th>\n",
              "      <th>st_slope</th>\n",
              "      <th>num_major_vessels</th>\n",
              "      <th>thalassemia</th>\n",
              "      <th>target</th>\n",
              "    </tr>\n",
              "  </thead>\n",
              "  <tbody>\n",
              "    <tr>\n",
              "      <th>0</th>\n",
              "      <td>61.0000</td>\n",
              "      <td>1.0</td>\n",
              "      <td>2.0</td>\n",
              "      <td>140.0</td>\n",
              "      <td>233.0000</td>\n",
              "      <td>0.0</td>\n",
              "      <td>0.0</td>\n",
              "      <td>150.0</td>\n",
              "      <td>0.0</td>\n",
              "      <td>1.6</td>\n",
              "      <td>1.0</td>\n",
              "      <td>0.0</td>\n",
              "      <td>2.0</td>\n",
              "      <td>1.0</td>\n",
              "    </tr>\n",
              "    <tr>\n",
              "      <th>1</th>\n",
              "      <td>47.9375</td>\n",
              "      <td>1.0</td>\n",
              "      <td>2.0</td>\n",
              "      <td>130.0</td>\n",
              "      <td>250.0000</td>\n",
              "      <td>0.0</td>\n",
              "      <td>1.0</td>\n",
              "      <td>166.0</td>\n",
              "      <td>0.0</td>\n",
              "      <td>1.6</td>\n",
              "      <td>1.0</td>\n",
              "      <td>0.0</td>\n",
              "      <td>2.0</td>\n",
              "      <td>1.0</td>\n",
              "    </tr>\n",
              "    <tr>\n",
              "      <th>2</th>\n",
              "      <td>47.9375</td>\n",
              "      <td>0.0</td>\n",
              "      <td>1.0</td>\n",
              "      <td>130.0</td>\n",
              "      <td>211.0000</td>\n",
              "      <td>0.0</td>\n",
              "      <td>0.0</td>\n",
              "      <td>166.0</td>\n",
              "      <td>0.0</td>\n",
              "      <td>1.4</td>\n",
              "      <td>2.0</td>\n",
              "      <td>0.0</td>\n",
              "      <td>2.0</td>\n",
              "      <td>1.0</td>\n",
              "    </tr>\n",
              "    <tr>\n",
              "      <th>3</th>\n",
              "      <td>56.0000</td>\n",
              "      <td>1.0</td>\n",
              "      <td>1.0</td>\n",
              "      <td>120.0</td>\n",
              "      <td>236.0000</td>\n",
              "      <td>0.0</td>\n",
              "      <td>1.0</td>\n",
              "      <td>166.0</td>\n",
              "      <td>0.0</td>\n",
              "      <td>0.8</td>\n",
              "      <td>2.0</td>\n",
              "      <td>0.0</td>\n",
              "      <td>2.0</td>\n",
              "      <td>1.0</td>\n",
              "    </tr>\n",
              "    <tr>\n",
              "      <th>4</th>\n",
              "      <td>57.0000</td>\n",
              "      <td>0.0</td>\n",
              "      <td>0.0</td>\n",
              "      <td>120.0</td>\n",
              "      <td>274.0625</td>\n",
              "      <td>0.0</td>\n",
              "      <td>1.0</td>\n",
              "      <td>163.0</td>\n",
              "      <td>1.0</td>\n",
              "      <td>0.6</td>\n",
              "      <td>2.0</td>\n",
              "      <td>0.0</td>\n",
              "      <td>2.0</td>\n",
              "      <td>1.0</td>\n",
              "    </tr>\n",
              "  </tbody>\n",
              "</table>\n",
              "</div>\n",
              "      <button class=\"colab-df-convert\" onclick=\"convertToInteractive('df-ef8ae97f-e1a0-4562-82df-89e037e1147b')\"\n",
              "              title=\"Convert this dataframe to an interactive table.\"\n",
              "              style=\"display:none;\">\n",
              "        \n",
              "  <svg xmlns=\"http://www.w3.org/2000/svg\" height=\"24px\"viewBox=\"0 0 24 24\"\n",
              "       width=\"24px\">\n",
              "    <path d=\"M0 0h24v24H0V0z\" fill=\"none\"/>\n",
              "    <path d=\"M18.56 5.44l.94 2.06.94-2.06 2.06-.94-2.06-.94-.94-2.06-.94 2.06-2.06.94zm-11 1L8.5 8.5l.94-2.06 2.06-.94-2.06-.94L8.5 2.5l-.94 2.06-2.06.94zm10 10l.94 2.06.94-2.06 2.06-.94-2.06-.94-.94-2.06-.94 2.06-2.06.94z\"/><path d=\"M17.41 7.96l-1.37-1.37c-.4-.4-.92-.59-1.43-.59-.52 0-1.04.2-1.43.59L10.3 9.45l-7.72 7.72c-.78.78-.78 2.05 0 2.83L4 21.41c.39.39.9.59 1.41.59.51 0 1.02-.2 1.41-.59l7.78-7.78 2.81-2.81c.8-.78.8-2.07 0-2.86zM5.41 20L4 18.59l7.72-7.72 1.47 1.35L5.41 20z\"/>\n",
              "  </svg>\n",
              "      </button>\n",
              "      \n",
              "  <style>\n",
              "    .colab-df-container {\n",
              "      display:flex;\n",
              "      flex-wrap:wrap;\n",
              "      gap: 12px;\n",
              "    }\n",
              "\n",
              "    .colab-df-convert {\n",
              "      background-color: #E8F0FE;\n",
              "      border: none;\n",
              "      border-radius: 50%;\n",
              "      cursor: pointer;\n",
              "      display: none;\n",
              "      fill: #1967D2;\n",
              "      height: 32px;\n",
              "      padding: 0 0 0 0;\n",
              "      width: 32px;\n",
              "    }\n",
              "\n",
              "    .colab-df-convert:hover {\n",
              "      background-color: #E2EBFA;\n",
              "      box-shadow: 0px 1px 2px rgba(60, 64, 67, 0.3), 0px 1px 3px 1px rgba(60, 64, 67, 0.15);\n",
              "      fill: #174EA6;\n",
              "    }\n",
              "\n",
              "    [theme=dark] .colab-df-convert {\n",
              "      background-color: #3B4455;\n",
              "      fill: #D2E3FC;\n",
              "    }\n",
              "\n",
              "    [theme=dark] .colab-df-convert:hover {\n",
              "      background-color: #434B5C;\n",
              "      box-shadow: 0px 1px 3px 1px rgba(0, 0, 0, 0.15);\n",
              "      filter: drop-shadow(0px 1px 2px rgba(0, 0, 0, 0.3));\n",
              "      fill: #FFFFFF;\n",
              "    }\n",
              "  </style>\n",
              "\n",
              "      <script>\n",
              "        const buttonEl =\n",
              "          document.querySelector('#df-ef8ae97f-e1a0-4562-82df-89e037e1147b button.colab-df-convert');\n",
              "        buttonEl.style.display =\n",
              "          google.colab.kernel.accessAllowed ? 'block' : 'none';\n",
              "\n",
              "        async function convertToInteractive(key) {\n",
              "          const element = document.querySelector('#df-ef8ae97f-e1a0-4562-82df-89e037e1147b');\n",
              "          const dataTable =\n",
              "            await google.colab.kernel.invokeFunction('convertToInteractive',\n",
              "                                                     [key], {});\n",
              "          if (!dataTable) return;\n",
              "\n",
              "          const docLinkHtml = 'Like what you see? Visit the ' +\n",
              "            '<a target=\"_blank\" href=https://colab.research.google.com/notebooks/data_table.ipynb>data table notebook</a>'\n",
              "            + ' to learn more about interactive tables.';\n",
              "          element.innerHTML = '';\n",
              "          dataTable['output_type'] = 'display_data';\n",
              "          await google.colab.output.renderOutput(dataTable, element);\n",
              "          const docLink = document.createElement('div');\n",
              "          docLink.innerHTML = docLinkHtml;\n",
              "          element.appendChild(docLink);\n",
              "        }\n",
              "      </script>\n",
              "    </div>\n",
              "  </div>\n",
              "  "
            ]
          },
          "metadata": {},
          "execution_count": 38
        }
      ]
    },
    {
      "cell_type": "markdown",
      "source": [
        "## Checking for correlation"
      ],
      "metadata": {
        "id": "BWYr6xLWS6kv"
      }
    },
    {
      "cell_type": "code",
      "source": [
        "plt.figure(figsize=(16,9))\n",
        "corr = df.corr()\n",
        "matrix = np.triu(corr)\n",
        "sns.heatmap(corr,annot=True,mask=matrix)\n",
        "plt.show()"
      ],
      "metadata": {
        "colab": {
          "base_uri": "https://localhost:8080/",
          "height": 656
        },
        "id": "lIkSK3O7D8gh",
        "outputId": "a8e916c5-cc79-4231-d629-488075daae79"
      },
      "execution_count": null,
      "outputs": [
        {
          "output_type": "display_data",
          "data": {
            "text/plain": [
              "<Figure size 1152x648 with 2 Axes>"
            ],
            "image/png": "[encoded data removed]"
          },
          "metadata": {
            "needs_background": "light"
          }
        }
      ]
    },
    {
      "cell_type": "markdown",
      "source": [
        "# Train Test Splitting"
      ],
      "metadata": {
        "id": "RtwQcurRI79c"
      }
    },
    {
      "cell_type": "code",
      "source": [
        "X = df.iloc[:,:-1]\n",
        "y = df.drop(df.iloc[:,:-1],axis=1)"
      ],
      "metadata": {
        "id": "CegIreixJAkA"
      },
      "execution_count": null,
      "outputs": []
    },
    {
      "cell_type": "code",
      "source": [
        "X_train,X_test,y_train,y_test = train_test_split(X,y,test_size=0.2,random_state=21)"
      ],
      "metadata": {
        "id": "tlFGW7fIJFbA"
      },
      "execution_count": null,
      "outputs": []
    },
    {
      "cell_type": "markdown",
      "source": [
        "# Feature Scalling on indepented features"
      ],
      "metadata": {
        "id": "V2x4hz5lJjfV"
      }
    },
    {
      "cell_type": "code",
      "source": [
        "rs=RobustScaler()\n",
        "X = rs.fit_transform(X)"
      ],
      "metadata": {
        "id": "5m56hQ6oJp5O"
      },
      "execution_count": null,
      "outputs": []
    },
    {
      "cell_type": "markdown",
      "source": [
        "# Building model with keras"
      ],
      "metadata": {
        "id": "F9UaYoYzKTvz"
      }
    },
    {
      "cell_type": "code",
      "source": [
        "model = Sequential()\n",
        "\n",
        "model.add(Dense(32,activation='relu',input_shape=(13,)))\n",
        "model.add(Dense(64,activation='relu'))\n",
        "model.add(Dense(1,'sigmoid'))"
      ],
      "metadata": {
        "id": "qQlKgheLKEwy"
      },
      "execution_count": null,
      "outputs": []
    },
    {
      "cell_type": "code",
      "source": [
        "model.compile(loss='binary_crossentropy',optimizer=SGD(lr=0.01),metrics=['accuracy'])"
      ],
      "metadata": {
        "colab": {
          "base_uri": "https://localhost:8080/"
        },
        "id": "8PkZSDuqL6VW",
        "outputId": "b4f79aed-18f4-44c5-d258-22b0ffc53e04"
      },
      "execution_count": null,
      "outputs": [
        {
          "output_type": "stream",
          "name": "stderr",
          "text": [
            "/usr/local/lib/python3.8/dist-packages/keras/optimizers/optimizer_v2/gradient_descent.py:114: UserWarning: The `lr` argument is deprecated, use `learning_rate` instead.\n",
            "  super().__init__(name, **kwargs)\n"
          ]
        }
      ]
    },
    {
      "cell_type": "code",
      "source": [
        "history = model.fit(X,y,epochs=20,\n",
        "          batch_size=12,\n",
        "          #callbacks=EarlyStopping(patience=5),\n",
        "          validation_split=0.2)"
      ],
      "metadata": {
        "colab": {
          "base_uri": "https://localhost:8080/"
        },
        "id": "rfE66jiuMYSq",
        "outputId": "cfff8031-3a37-460c-8a41-801a5557064f"
      },
      "execution_count": null,
      "outputs": [
        {
          "output_type": "stream",
          "name": "stdout",
          "text": [
            "Epoch 1/20\n",
            "21/21 [==============================] - 4s 12ms/step - loss: 0.6741 - accuracy: 0.6033 - val_loss: 0.6663 - val_accuracy: 0.7049\n",
            "Epoch 2/20\n",
            "21/21 [==============================] - 0s 5ms/step - loss: 0.6498 - accuracy: 0.7893 - val_loss: 0.7083 - val_accuracy: 0.3607\n",
            "Epoch 3/20\n",
            "21/21 [==============================] - 0s 5ms/step - loss: 0.6279 - accuracy: 0.8058 - val_loss: 0.7391 - val_accuracy: 0.2787\n",
            "Epoch 4/20\n",
            "21/21 [==============================] - 0s 7ms/step - loss: 0.6096 - accuracy: 0.7975 - val_loss: 0.7725 - val_accuracy: 0.1475\n",
            "Epoch 5/20\n",
            "21/21 [==============================] - 0s 5ms/step - loss: 0.5923 - accuracy: 0.7769 - val_loss: 0.7918 - val_accuracy: 0.0984\n",
            "Epoch 6/20\n",
            "21/21 [==============================] - 0s 5ms/step - loss: 0.5768 - accuracy: 0.7769 - val_loss: 0.8117 - val_accuracy: 0.0656\n",
            "Epoch 7/20\n",
            "21/21 [==============================] - 0s 5ms/step - loss: 0.5627 - accuracy: 0.7645 - val_loss: 0.8260 - val_accuracy: 0.0820\n",
            "Epoch 8/20\n",
            "21/21 [==============================] - 0s 5ms/step - loss: 0.5489 - accuracy: 0.7603 - val_loss: 0.8416 - val_accuracy: 0.0820\n",
            "Epoch 9/20\n",
            "21/21 [==============================] - 0s 4ms/step - loss: 0.5362 - accuracy: 0.7603 - val_loss: 0.8473 - val_accuracy: 0.1311\n",
            "Epoch 10/20\n",
            "21/21 [==============================] - 0s 5ms/step - loss: 0.5233 - accuracy: 0.7645 - val_loss: 0.8594 - val_accuracy: 0.1475\n",
            "Epoch 11/20\n",
            "21/21 [==============================] - 0s 4ms/step - loss: 0.5101 - accuracy: 0.7645 - val_loss: 0.8581 - val_accuracy: 0.2295\n",
            "Epoch 12/20\n",
            "21/21 [==============================] - 0s 5ms/step - loss: 0.4975 - accuracy: 0.7810 - val_loss: 0.8665 - val_accuracy: 0.2295\n",
            "Epoch 13/20\n",
            "21/21 [==============================] - 0s 5ms/step - loss: 0.4855 - accuracy: 0.7810 - val_loss: 0.8538 - val_accuracy: 0.2459\n",
            "Epoch 14/20\n",
            "21/21 [==============================] - 0s 5ms/step - loss: 0.4725 - accuracy: 0.8058 - val_loss: 0.8531 - val_accuracy: 0.2787\n",
            "Epoch 15/20\n",
            "21/21 [==============================] - 0s 4ms/step - loss: 0.4595 - accuracy: 0.8182 - val_loss: 0.8496 - val_accuracy: 0.2787\n",
            "Epoch 16/20\n",
            "21/21 [==============================] - 0s 5ms/step - loss: 0.4469 - accuracy: 0.8306 - val_loss: 0.8448 - val_accuracy: 0.2787\n",
            "Epoch 17/20\n",
            "21/21 [==============================] - 0s 4ms/step - loss: 0.4352 - accuracy: 0.8512 - val_loss: 0.8171 - val_accuracy: 0.3443\n",
            "Epoch 18/20\n",
            "21/21 [==============================] - 0s 5ms/step - loss: 0.4223 - accuracy: 0.8595 - val_loss: 0.8160 - val_accuracy: 0.3770\n",
            "Epoch 19/20\n",
            "21/21 [==============================] - 0s 6ms/step - loss: 0.4110 - accuracy: 0.8636 - val_loss: 0.7839 - val_accuracy: 0.3934\n",
            "Epoch 20/20\n",
            "21/21 [==============================] - 0s 4ms/step - loss: 0.3995 - accuracy: 0.8678 - val_loss: 0.7668 - val_accuracy: 0.4426\n"
          ]
        }
      ]
    },
    {
      "cell_type": "code",
      "source": [
        "model.summary()"
      ],
      "metadata": {
        "colab": {
          "base_uri": "https://localhost:8080/"
        },
        "id": "zwYvso4JN36q",
        "outputId": "e76daf16-793c-4e89-c852-f574d9924b21"
      },
      "execution_count": null,
      "outputs": [
        {
          "output_type": "stream",
          "name": "stdout",
          "text": [
            "Model: \"sequential\"\n",
            "_________________________________________________________________\n",
            " Layer (type)                Output Shape              Param #   \n",
            "=================================================================\n",
            " dense (Dense)               (None, 32)                448       \n",
            "                                                                 \n",
            " dense_1 (Dense)             (None, 64)                2112      \n",
            "                                                                 \n",
            " dense_2 (Dense)             (None, 1)                 65        \n",
            "                                                                 \n",
            "=================================================================\n",
            "Total params: 2,625\n",
            "Trainable params: 2,625\n",
            "Non-trainable params: 0\n",
            "_________________________________________________________________\n"
          ]
        }
      ]
    },
    {
      "cell_type": "code",
      "source": [
        "history.history.keys()"
      ],
      "metadata": {
        "colab": {
          "base_uri": "https://localhost:8080/"
        },
        "id": "AyG-H1VgDLe_",
        "outputId": "8a4909b4-3f34-49a1-b53b-3e1e77414f04"
      },
      "execution_count": null,
      "outputs": [
        {
          "output_type": "execute_result",
          "data": {
            "text/plain": [
              "dict_keys(['loss', 'accuracy', 'val_loss', 'val_accuracy'])"
            ]
          },
          "metadata": {},
          "execution_count": 50
        }
      ]
    },
    {
      "cell_type": "code",
      "source": [
        "plt.plot(history.history['loss'])\n",
        "plt.plot(history.history['val_loss'])\n",
        "plt.title('Model_loss',fontsize=16)\n",
        "plt.xlabel('Epochs')\n",
        "plt.ylabel('Loss')\n",
        "plt.legend(['train','test'])\n",
        "plt.show()"
      ],
      "metadata": {
        "colab": {
          "base_uri": "https://localhost:8080/",
          "height": 297
        },
        "id": "IjwTP2VmCNzq",
        "outputId": "f14b9916-d1b9-4fb4-eb5d-4c7ab6452bce"
      },
      "execution_count": null,
      "outputs": [
        {
          "output_type": "display_data",
          "data": {
            "text/plain": [
              "<Figure size 432x288 with 1 Axes>"
            ],
            "image/png": "[encoded data removed]"
          },
          "metadata": {
            "needs_background": "light"
          }
        }
      ]
    },
    {
      "cell_type": "code",
      "source": [
        "plt.plot(history.history['accuracy'])\n",
        "plt.plot(history.history['val_accuracy'])\n",
        "plt.title('Model_acc',fontsize=16)\n",
        "plt.xlabel('Epochs')\n",
        "plt.ylabel('Accuracy')\n",
        "plt.legend(['train','test'])\n",
        "plt.show()"
      ],
      "metadata": {
        "colab": {
          "base_uri": "https://localhost:8080/",
          "height": 297
        },
        "id": "7IJh7drQDwHL",
        "outputId": "01e7bf6a-5cfd-4de5-d33c-26ecc70d4006"
      },
      "execution_count": null,
      "outputs": [
        {
          "output_type": "display_data",
          "data": {
            "text/plain": [
              "<Figure size 432x288 with 1 Axes>"
            ],
            "image/png": "[encoded data removed]"
          },
          "metadata": {
            "needs_background": "light"
          }
        }
      ]
    },
    {
      "cell_type": "code",
      "source": [],
      "metadata": {
        "id": "nzcyKS0dEyz_"
      },
      "execution_count": null,
      "outputs": []
    }
  ]
}